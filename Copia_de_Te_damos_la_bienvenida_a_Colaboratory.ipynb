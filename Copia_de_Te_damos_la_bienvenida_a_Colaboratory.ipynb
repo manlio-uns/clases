{
  "nbformat": 4,
  "nbformat_minor": 0,
  "metadata": {
    "colab": {
      "name": "Copia de Te damos la bienvenida a Colaboratory",
      "provenance": [],
      "collapsed_sections": [],
      "include_colab_link": true
    },
    "kernelspec": {
      "display_name": "Python 3",
      "name": "python3"
    }
  },
  "cells": [
    {
      "cell_type": "markdown",
      "metadata": {
        "id": "view-in-github",
        "colab_type": "text"
      },
      "source": [
        "<a href=\"https://colab.research.google.com/github/manlio-uns/clases/blob/master/Copia_de_Te_damos_la_bienvenida_a_Colaboratory.ipynb\" target=\"_parent\"><img src=\"https://colab.research.google.com/assets/colab-badge.svg\" alt=\"Open In Colab\"/></a>"
      ]
    },
    {
      "cell_type": "markdown",
      "metadata": {
        "colab_type": "text",
        "id": "5fCEDCU_qrC0"
      },
      "source": [
        "<p><img alt=\"Colaboratory logo\" height=\"45px\" src=\"/img/colab_favicon.ico\" align=\"left\" hspace=\"10px\" vspace=\"0px\"></p>\n",
        "\n",
        "<h1>¿Qué es Colaboratory?</h1>\n",
        "\n",
        "Colab te permite ejecutar y programar en Python en tu navegador, con\n",
        "- No requiere configuración\n",
        "- Acceso gratuito a GPUs\n",
        "- Compartir fácilmente\n",
        "\n",
        "Colab puede facilitar tu trabajo, ya seas un <strong>alumno</strong>, un <strong>científico de datos</strong> o un <strong>investigador de IA</strong>. No te pierdas el vídeo de <a href=\"https://www.youtube.com/watch?v=inN8seMm7UI\">introducción a Colab</a> para obtener más información. O bien, empieza aquí abajo."
      ]
    },
    {
      "cell_type": "markdown",
      "metadata": {
        "id": "IGSiSPqeNJZd",
        "colab_type": "text"
      },
      "source": [
        "## <strong>Primeros pasos</strong>\n",
        "El documento que estás leyendo no es una página web estática, sino un entorno interactivo denominado <strong>cuaderno de Colab</strong> que te permite escribir y ejecutar código.\n",
        "\n",
        "en colab todo de ejecuta dando click entre [   ]."
      ]
    },
    {
      "cell_type": "markdown",
      "metadata": {
        "id": "28iBREdzLmzV",
        "colab_type": "text"
      },
      "source": [
        "\n",
        "###\n",
        "*  comentarios.\n",
        "*  en general codigo que no se ejecuta. \n"
      ]
    },
    {
      "cell_type": "markdown",
      "metadata": {
        "id": "1EN1MB0OM5al",
        "colab_type": "text"
      },
      "source": [
        "print() imprime lo que se encuentre entre los parentesis."
      ]
    },
    {
      "cell_type": "code",
      "metadata": {
        "colab_type": "code",
        "id": "X9uIpOS2zx7k",
        "colab": {}
      },
      "source": [
        "print(\"Hello World\")"
      ],
      "execution_count": 0,
      "outputs": []
    },
    {
      "cell_type": "code",
      "metadata": {
        "id": "ka1vV9_4M0mn",
        "colab_type": "code",
        "colab": {}
      },
      "source": [
        "#comentario que no afecta en nada!!!!!!!!"
      ],
      "execution_count": 0,
      "outputs": []
    },
    {
      "cell_type": "code",
      "metadata": {
        "id": "VJnQrrq4IPLK",
        "colab_type": "code",
        "outputId": "1481de3d-5ab9-4e3d-a2c0-9ca838143a1e",
        "colab": {
          "base_uri": "https://localhost:8080/",
          "height": 34
        }
      },
      "source": [
        "print(1+2)"
      ],
      "execution_count": 0,
      "outputs": [
        {
          "output_type": "stream",
          "text": [
            "3\n"
          ],
          "name": "stdout"
        }
      ]
    },
    {
      "cell_type": "markdown",
      "metadata": {
        "id": "qmB3BOL2ImWY",
        "colab_type": "text"
      },
      "source": [
        "definicion de una variable."
      ]
    },
    {
      "cell_type": "code",
      "metadata": {
        "id": "ZoRAySQfIp1x",
        "colab_type": "code",
        "colab": {}
      },
      "source": [
        "variable=10"
      ],
      "execution_count": 0,
      "outputs": []
    },
    {
      "cell_type": "code",
      "metadata": {
        "id": "nTmHwXRxIuvo",
        "colab_type": "code",
        "colab": {}
      },
      "source": [
        "resultado=variable*10"
      ],
      "execution_count": 0,
      "outputs": []
    },
    {
      "cell_type": "code",
      "metadata": {
        "id": "B5o2hKccI0Qw",
        "colab_type": "code",
        "outputId": "981d6305-b17c-42ef-9735-db0a10e00c8d",
        "colab": {
          "base_uri": "https://localhost:8080/",
          "height": 34
        }
      },
      "source": [
        "print(resultado)"
      ],
      "execution_count": 0,
      "outputs": [
        {
          "output_type": "stream",
          "text": [
            "100\n"
          ],
          "name": "stdout"
        }
      ]
    },
    {
      "cell_type": "markdown",
      "metadata": {
        "id": "bfGapks6I94Y",
        "colab_type": "text"
      },
      "source": [
        "una variable tambien puede ser un caracter o una union de caracteres, siempre encerrado por comillas."
      ]
    },
    {
      "cell_type": "code",
      "metadata": {
        "id": "B0eKJbBeI9RQ",
        "colab_type": "code",
        "outputId": "2d2218bb-a11d-42bc-954c-e8563b728c36",
        "colab": {
          "base_uri": "https://localhost:8080/",
          "height": 34
        }
      },
      "source": [
        "palabra=\"PALABRA-ERROR\"\n",
        "print(palabra)"
      ],
      "execution_count": 0,
      "outputs": [
        {
          "output_type": "stream",
          "text": [
            "PALABRA-ERROR\n"
          ],
          "name": "stdout"
        }
      ]
    },
    {
      "cell_type": "markdown",
      "metadata": {
        "id": "rLkJprHNJiJ9",
        "colab_type": "text"
      },
      "source": [
        "tambien se puede hacer operaciones."
      ]
    },
    {
      "cell_type": "code",
      "metadata": {
        "id": "h-g4NQ63Jn0i",
        "colab_type": "code",
        "outputId": "50fef7a3-0ced-42e8-8ca0-93c8033bf990",
        "colab": {
          "base_uri": "https://localhost:8080/",
          "height": 34
        }
      },
      "source": [
        "frase = palabra + \"009503\"\n",
        "print(frase)"
      ],
      "execution_count": 0,
      "outputs": [
        {
          "output_type": "stream",
          "text": [
            "PALABRA-ERROR009503\n"
          ],
          "name": "stdout"
        }
      ]
    },
    {
      "cell_type": "markdown",
      "metadata": {
        "id": "AACH-nqlMLsE",
        "colab_type": "text"
      },
      "source": [
        "lo que hemos visto son tipos de variables, la variable resultado es del tipo nùmero entero(**int**eger) y la variable llamada frase es del tipo cadena(**str**ing)"
      ]
    },
    {
      "cell_type": "code",
      "metadata": {
        "id": "3m43swMJMzNd",
        "colab_type": "code",
        "outputId": "cdef25ff-26ff-4043-e472-3ca042de3c56",
        "colab": {
          "base_uri": "https://localhost:8080/",
          "height": 34
        }
      },
      "source": [
        "type(resultado)"
      ],
      "execution_count": 0,
      "outputs": [
        {
          "output_type": "execute_result",
          "data": {
            "text/plain": [
              "int"
            ]
          },
          "metadata": {
            "tags": []
          },
          "execution_count": 9
        }
      ]
    },
    {
      "cell_type": "code",
      "metadata": {
        "id": "zE6asGToNOpB",
        "colab_type": "code",
        "outputId": "f7eea040-1e82-4082-e36e-a0f627dbd2e8",
        "colab": {
          "base_uri": "https://localhost:8080/",
          "height": 34
        }
      },
      "source": [
        "type(frase)"
      ],
      "execution_count": 0,
      "outputs": [
        {
          "output_type": "execute_result",
          "data": {
            "text/plain": [
              "str"
            ]
          },
          "metadata": {
            "tags": []
          },
          "execution_count": 10
        }
      ]
    },
    {
      "cell_type": "markdown",
      "metadata": {
        "colab_type": "text",
        "id": "GJBs_flRovLc"
      },
      "source": [
        "\n",
        "\n",
        "##Operaciones\n",
        "\n",
        "Por ejemplo, a continuación se muestra una <strong>celda de código</strong> con una breve secuencia de comandos de Python que calcula un valor, lo almacena en una variable e imprime el resultado:"
      ]
    },
    {
      "cell_type": "code",
      "metadata": {
        "colab_type": "code",
        "id": "gJr_9dXGpJ05",
        "outputId": "9f556d03-ec67-4950-a485-cfdba9ddd14d",
        "colab": {
          "base_uri": "https://localhost:8080/",
          "height": 34
        }
      },
      "source": [
        "seconds_in_a_day = 24 * 60 * 60\n",
        "seconds_in_a_day"
      ],
      "execution_count": 0,
      "outputs": [
        {
          "output_type": "execute_result",
          "data": {
            "text/plain": [
              "86400"
            ]
          },
          "metadata": {
            "tags": []
          },
          "execution_count": 0
        }
      ]
    },
    {
      "cell_type": "markdown",
      "metadata": {
        "colab_type": "text",
        "id": "2fhs6GZ4qFMx"
      },
      "source": [
        "Si quieres ejecutar el código de la celda anterior, haz clic para seleccionarlo y pulsa el botón de reproducir situado a la izquierda del código o usa la combinación de teclas \"Comando/Ctrl + Intro\". Para editar el código, solo tienes que hacer clic en la celda.\n",
        "\n",
        "Las variables que definas en una celda se pueden usar después en otras celdas:"
      ]
    },
    {
      "cell_type": "code",
      "metadata": {
        "colab_type": "code",
        "id": "-gE-Ez1qtyIA",
        "outputId": "94cb2224-0edf-457b-90b5-0ac3488d8a97",
        "colab": {
          "base_uri": "https://localhost:8080/",
          "height": 34
        }
      },
      "source": [
        "seconds_in_a_week = 7 * seconds_in_a_day\n",
        "seconds_in_a_week"
      ],
      "execution_count": 0,
      "outputs": [
        {
          "output_type": "execute_result",
          "data": {
            "text/plain": [
              "604800"
            ]
          },
          "metadata": {
            "tags": []
          },
          "execution_count": 0
        }
      ]
    },
    {
      "cell_type": "markdown",
      "metadata": {
        "id": "3hXV6oWNObLe",
        "colab_type": "text"
      },
      "source": [
        "##Errores\n",
        "en programaciòn tenemos muchos errores, es más cuando desconfíen cuando tengan un programa se ejecute bien al primer intento. Por lo cual la búsqueda de errores se ha vuelto una rama dentro de la informática.\n",
        "\n",
        "A continuación les mostraremos el error más común cuando uno esta empezando a programar."
      ]
    },
    {
      "cell_type": "code",
      "metadata": {
        "id": "nd3dmywy9Kho",
        "colab_type": "code",
        "colab": {}
      },
      "source": [
        "numero=10\n",
        "palabra=\"10\""
      ],
      "execution_count": 0,
      "outputs": []
    },
    {
      "cell_type": "code",
      "metadata": {
        "id": "4i8MfhYE9uCa",
        "colab_type": "code",
        "outputId": "349467bd-f663-4b05-b725-cf57a3f76fe2",
        "colab": {
          "base_uri": "https://localhost:8080/",
          "height": 163
        }
      },
      "source": [
        "print(numero+palabra)"
      ],
      "execution_count": 0,
      "outputs": [
        {
          "output_type": "error",
          "ename": "TypeError",
          "evalue": "ignored",
          "traceback": [
            "\u001b[0;31m---------------------------------------------------------------------------\u001b[0m",
            "\u001b[0;31mTypeError\u001b[0m                                 Traceback (most recent call last)",
            "\u001b[0;32m<ipython-input-4-7bee587ce07b>\u001b[0m in \u001b[0;36m<module>\u001b[0;34m()\u001b[0m\n\u001b[0;32m----> 1\u001b[0;31m \u001b[0mprint\u001b[0m\u001b[0;34m(\u001b[0m\u001b[0mnumero\u001b[0m\u001b[0;34m+\u001b[0m\u001b[0mpalabra\u001b[0m\u001b[0;34m)\u001b[0m\u001b[0;34m\u001b[0m\u001b[0;34m\u001b[0m\u001b[0m\n\u001b[0m",
            "\u001b[0;31mTypeError\u001b[0m: unsupported operand type(s) for +: 'int' and 'str'"
          ]
        }
      ]
    },
    {
      "cell_type": "markdown",
      "metadata": {
        "id": "n-UHAeX0-fEF",
        "colab_type": "text"
      },
      "source": [
        "## ciclos o loops\n",
        "\n",
        "los ciclos son utilizados para hacer una misma actividad muchas veces, cuando sabemos exactamente cuántas veces vamos a ejecutar un código usamos el ciclo **for**, cuando no sabemos exactamente usamos un ciclo **while**."
      ]
    },
    {
      "cell_type": "code",
      "metadata": {
        "id": "sV_dXC7z_InB",
        "colab_type": "code",
        "outputId": "43222e36-b08a-4746-b5ea-072df98af4ac",
        "colab": {
          "base_uri": "https://localhost:8080/",
          "height": 51
        }
      },
      "source": [
        "import numpy as np\n",
        "print(\"hacemos Iteraciones sobre items. por ejemplo `range(5)` no da un resultado de [0,1,2,3,4].\")\n",
        "lista=np.arange(5)\n",
        "print(lista)"
      ],
      "execution_count": 0,
      "outputs": [
        {
          "output_type": "stream",
          "text": [
            "hacemos Iteraciones sobre items. por ejemplo `range(5)` no da un resultado de [0,1,2,3,4].\n",
            "[0 1 2 3 4]\n"
          ],
          "name": "stdout"
        }
      ]
    },
    {
      "cell_type": "code",
      "metadata": {
        "colab_type": "code",
        "id": "m8YQN1H41L-Y",
        "outputId": "668cc949-008c-4700-c1cd-139e1c2bd556",
        "colab": {
          "base_uri": "https://localhost:8080/",
          "height": 391
        }
      },
      "source": [
        "\n",
        "for i in range(5):\n",
        "  print(i)\n",
        "\n",
        "print(\"Itera sobre una lista.\")\n",
        "for i in [0,1,2,3,4]:\n",
        "  print(i)\n",
        "\n",
        "print(\"se ejecuta mientras que se cumple una condicion\")\n",
        "i = 0\n",
        "while i < 10:\n",
        "  print(i)\n",
        "  i += 1"
      ],
      "execution_count": 0,
      "outputs": [
        {
          "output_type": "stream",
          "text": [
            "0\n",
            "1\n",
            "2\n",
            "3\n",
            "4\n",
            "Iterate over an actual list.\n",
            "0\n",
            "1\n",
            "2\n",
            "3\n",
            "4\n",
            "While works\n",
            "0\n",
            "1\n",
            "2\n",
            "3\n",
            "4\n",
            "5\n",
            "6\n",
            "7\n",
            "8\n",
            "9\n"
          ],
          "name": "stdout"
        }
      ]
    },
    {
      "cell_type": "markdown",
      "metadata": {
        "colab_type": "text",
        "id": "-Rh3-Vt9Nev9"
      },
      "source": [
        "## Más recursos\n",
        "\n",
        "### Trabajar con cuadernos en Colab\n",
        "- [Información general sobre Colaboratory](/notebooks/basic_features_overview.ipynb)\n",
        "- [Guía de Markdown](/notebooks/markdown_guide.ipynb)\n",
        "- [Importar bibliotecas e instalar dependencias](/notebooks/snippets/importing_libraries.ipynb)\n",
        "- [Guardar y cargar cuadernos en GitHub](https://colab.research.google.com/github/googlecolab/colabtools/blob/master/notebooks/colab-github-demo.ipynb)\n",
        "- [Formularios interactivos](/notebooks/forms.ipynb)\n",
        "- [Widgets interactivos](/notebooks/widgets.ipynb)\n",
        "- <img src=\"/img/new.png\" height=\"20px\" align=\"left\" hspace=\"4px\" alt=\"New\"></img>\n",
        " [TensorFlow 2 en Colab](/notebooks/tensorflow_version.ipynb)\n",
        "\n",
        "<a name=\"working-with-data\"></a>\n",
        "### Trabajar con datos\n",
        "- [Cargar datos: Drive, Hojas de cálculo y Google Cloud Storage](/notebooks/io.ipynb) \n",
        "- [Gráficos: visualización de datos](/notebooks/charts.ipynb)\n",
        "- [Primeros pasos con BigQuery](/notebooks/bigquery.ipynb)\n",
        "\n",
        "### Curso intensivo de aprendizaje automático\n",
        "A continuación, se muestran algunos cuadernos del curso online de Google sobre aprendizaje automático. Para obtener más información, consulta el <a href=\"https://developers.google.com/machine-learning/crash-course/\">sitio web del curso completo</a>.\n",
        "- [Introducción a Pandas](/notebooks/mlcc/intro_to_pandas.ipynb)\n",
        "- [Conceptos de TensorFlow](/notebooks/mlcc/tensorflow_programming_concepts.ipynb)\n",
        "- [Primeros pasos con TensorFlow](/notebooks/mlcc/first_steps_with_tensor_flow.ipynb)\n",
        "- [Introducción a las redes neuronales](/notebooks/mlcc/intro_to_neural_nets.ipynb)\n",
        "- [Introducción a los datos dispersos y los elementos insertados](/notebooks/mlcc/intro_to_sparse_data_and_embeddings.ipynb)\n",
        "\n",
        "<a name=\"using-accelerated-hardware\"></a>\n",
        "### Uso de hardware acelerado\n",
        "- [TensorFlow con GPUs](/notebooks/gpu.ipynb)\n",
        "- [TensorFlow con TPUs](/notebooks/tpu.ipynb)"
      ]
    },
    {
      "cell_type": "markdown",
      "metadata": {
        "colab_type": "text",
        "id": "P-H6Lw1vyNNd"
      },
      "source": [
        "<a name=\"machine-learning-examples\"></a>\n",
        "\n",
        "## Ejemplos de aprendizaje automático\n",
        "\n",
        "Si quieres ver ejemplos completos de los análisis interactivos de aprendizaje automático que se pueden llevar a cabo con Colaboratory, consulta el proyecto <a href=\"https://research.google.com/seedbank/\">Seedbank</a>.\n",
        "\n",
        "A continuación se indican algunos ejemplos destacados:\n",
        "\n",
        "- <a href=\"https://research.google.com/seedbank/seed/neural_style_transfer_with_tfkeras\">Transferencia de estilo neuronal</a>: utiliza el aprendizaje profundo para transferir el estilo de una imagen a otra.\n",
        "- <a href=\"https://research.google.com/seedbank/seed/ez_nsynth\">EZ NSynth</a>: sintetiza audio con codificadores automáticos WaveNet.\n",
        "- <a href=\"https://research.google.com/seedbank/seed/fashion_mnist_with_keras_and_tpus\">MNIST de moda con Keras y TPUs</a>: clasifica imágenes relacionadas con la moda usando el aprendizaje profundo.\n",
        "- <a href=\"https://research.google.com/seedbank/seed/deepdream\">DeepDream</a>: crea imágenes DeepDream a partir de tus propias fotos.\n",
        "- <a href=\"https://research.google.com/seedbank/seed/convolutional_vae\">Convolutional VAE</a>: crea un modelo generativo de dígitos escritos a mano."
      ]
    }
  ]
}